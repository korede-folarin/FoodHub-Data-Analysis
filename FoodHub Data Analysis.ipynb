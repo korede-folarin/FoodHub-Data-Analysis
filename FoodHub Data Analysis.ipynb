{
 "cells": [
  {
   "cell_type": "markdown",
   "metadata": {
    "id": "HnAlaR5Y2rc8"
   },
   "source": [
    "# Project Python Foundations: FoodHub Data Analysis\n",
    "\n",
    "**Marks: 60 points**"
   ]
  },
  {
   "cell_type": "markdown",
   "metadata": {
    "id": "N0e9ilAx2rc_"
   },
   "source": [
    "### Context\n",
    "\n",
    "The number of restaurants in New York is increasing day by day. Lots of students and busy professionals rely on those restaurants due to their hectic lifestyles. Online food delivery service is a great option for them. It provides them with good food from their favorite restaurants. A food aggregator company FoodHub offers access to multiple restaurants through a single smartphone app.\n",
    "\n",
    "The app allows the restaurants to receive a direct online order from a customer. The app assigns a delivery person from the company to pick up the order after it is confirmed by the restaurant. The delivery person then uses the map to reach the restaurant and waits for the food package. Once the food package is handed over to the delivery person, he/she confirms the pick-up in the app and travels to the customer's location to deliver the food. The delivery person confirms the drop-off in the app after delivering the food package to the customer. The customer can rate the order in the app. The food aggregator earns money by collecting a fixed margin of the delivery order from the restaurants.\n",
    "\n",
    "### Objective\n",
    "\n",
    "The food aggregator company has stored the data of the different orders made by the registered customers in their online portal. They want to analyze the data to get a fair idea about the demand of different restaurants which will help them in enhancing their customer experience. Suppose you are a Data Scientist at Foodhub and the Data Science team has shared some of the key questions that need to be answered. Perform the data analysis to find answers to these questions that will help the company to improve the business.\n",
    "\n",
    "### Data Description\n",
    "\n",
    "The data contains the different data related to a food order. The detailed data dictionary is given below.\n",
    "\n",
    "### Data Dictionary\n",
    "\n",
    "* order_id: Unique ID of the order\n",
    "* customer_id: ID of the customer who ordered the food\n",
    "* restaurant_name: Name of the restaurant\n",
    "* cuisine_type: Cuisine ordered by the customer\n",
    "* cost_of_the_order: Cost of the order\n",
    "* day_of_the_week: Indicates whether the order is placed on a weekday or weekend (The weekday is from Monday to Friday and the weekend is Saturday and Sunday)\n",
    "* rating: Rating given by the customer out of 5\n",
    "* food_preparation_time: Time (in minutes) taken by the restaurant to prepare the food. This is calculated by taking the difference between the timestamps of the restaurant's order confirmation and the delivery person's pick-up confirmation.\n",
    "* delivery_time: Time (in minutes) taken by the delivery person to deliver the food package. This is calculated by taking the difference between the timestamps of the delivery person's pick-up confirmation and drop-off information"
   ]
  },
  {
   "cell_type": "markdown",
   "metadata": {
    "id": "Ruz2EiJ32rdB"
   },
   "source": [
    "### **Please read the instructions carefully before starting the project.**\n",
    "This is a commented Jupyter IPython Notebook file in which all the instructions and tasks to be performed are mentioned. Read along carefully to complete the project.\n",
    "* Blanks '_______' are provided in the notebook that\n",
    "needs to be filled with an appropriate code to get the correct result. Please replace the blank with the right code snippet. With every '_______' blank, there is a comment that briefly describes what needs to be filled in the blank space.\n",
    "* Identify the task to be performed correctly, and only then proceed to write the required code.\n",
    "* Fill the code wherever asked by the commented lines like \"# write your code here\" or \"# complete the code\". Running incomplete code may throw an error.\n",
    "* Please run the codes in a sequential manner from the beginning to avoid any unnecessary errors.\n",
    "* You can the results/observations derived from the analysis here and use them to create your final presentation.\n"
   ]
  },
  {
   "cell_type": "markdown",
   "metadata": {
    "id": "enOodKS42rdB"
   },
   "source": [
    "### Let us start by importing the required libraries"
   ]
  },
  {
   "cell_type": "code",
   "execution_count": 8,
   "metadata": {
    "id": "p7FpluTK2rdC"
   },
   "outputs": [],
   "source": [
    "# Import libraries for data manipulation\n",
    "import numpy as np\n",
    "import pandas as pd\n",
    "\n",
    "# Import libraries for data visualization\n",
    "import matplotlib.pyplot as plt\n",
    "import seaborn as sns"
   ]
  },
  {
   "cell_type": "markdown",
   "metadata": {
    "id": "LHxIYWXP2rdD"
   },
   "source": [
    "### Understanding the structure of the data"
   ]
  },
  {
   "cell_type": "code",
   "execution_count": 54,
   "metadata": {
    "id": "nwlzFr-_2rdD",
    "scrolled": true
   },
   "outputs": [
    {
     "data": {
      "text/html": [
       "<div>\n",
       "<style scoped>\n",
       "    .dataframe tbody tr th:only-of-type {\n",
       "        vertical-align: middle;\n",
       "    }\n",
       "\n",
       "    .dataframe tbody tr th {\n",
       "        vertical-align: top;\n",
       "    }\n",
       "\n",
       "    .dataframe thead th {\n",
       "        text-align: right;\n",
       "    }\n",
       "</style>\n",
       "<table border=\"1\" class=\"dataframe\">\n",
       "  <thead>\n",
       "    <tr style=\"text-align: right;\">\n",
       "      <th></th>\n",
       "      <th>order_id</th>\n",
       "      <th>customer_id</th>\n",
       "      <th>restaurant_name</th>\n",
       "      <th>cuisine_type</th>\n",
       "      <th>cost_of_the_order</th>\n",
       "      <th>day_of_the_week</th>\n",
       "      <th>rating</th>\n",
       "      <th>food_preparation_time</th>\n",
       "      <th>delivery_time</th>\n",
       "    </tr>\n",
       "  </thead>\n",
       "  <tbody>\n",
       "    <tr>\n",
       "      <th>0</th>\n",
       "      <td>1477147</td>\n",
       "      <td>337525</td>\n",
       "      <td>Hangawi</td>\n",
       "      <td>Korean</td>\n",
       "      <td>30.75</td>\n",
       "      <td>Weekend</td>\n",
       "      <td>Not given</td>\n",
       "      <td>25</td>\n",
       "      <td>20</td>\n",
       "    </tr>\n",
       "    <tr>\n",
       "      <th>1</th>\n",
       "      <td>1477685</td>\n",
       "      <td>358141</td>\n",
       "      <td>Blue Ribbon Sushi Izakaya</td>\n",
       "      <td>Japanese</td>\n",
       "      <td>12.08</td>\n",
       "      <td>Weekend</td>\n",
       "      <td>Not given</td>\n",
       "      <td>25</td>\n",
       "      <td>23</td>\n",
       "    </tr>\n",
       "    <tr>\n",
       "      <th>2</th>\n",
       "      <td>1477070</td>\n",
       "      <td>66393</td>\n",
       "      <td>Cafe Habana</td>\n",
       "      <td>Mexican</td>\n",
       "      <td>12.23</td>\n",
       "      <td>Weekday</td>\n",
       "      <td>5</td>\n",
       "      <td>23</td>\n",
       "      <td>28</td>\n",
       "    </tr>\n",
       "    <tr>\n",
       "      <th>3</th>\n",
       "      <td>1477334</td>\n",
       "      <td>106968</td>\n",
       "      <td>Blue Ribbon Fried Chicken</td>\n",
       "      <td>American</td>\n",
       "      <td>29.20</td>\n",
       "      <td>Weekend</td>\n",
       "      <td>3</td>\n",
       "      <td>25</td>\n",
       "      <td>15</td>\n",
       "    </tr>\n",
       "    <tr>\n",
       "      <th>4</th>\n",
       "      <td>1478249</td>\n",
       "      <td>76942</td>\n",
       "      <td>Dirty Bird to Go</td>\n",
       "      <td>American</td>\n",
       "      <td>11.59</td>\n",
       "      <td>Weekday</td>\n",
       "      <td>4</td>\n",
       "      <td>25</td>\n",
       "      <td>24</td>\n",
       "    </tr>\n",
       "    <tr>\n",
       "      <th>5</th>\n",
       "      <td>1477224</td>\n",
       "      <td>147468</td>\n",
       "      <td>Tamarind TriBeCa</td>\n",
       "      <td>Indian</td>\n",
       "      <td>25.22</td>\n",
       "      <td>Weekday</td>\n",
       "      <td>3</td>\n",
       "      <td>20</td>\n",
       "      <td>24</td>\n",
       "    </tr>\n",
       "    <tr>\n",
       "      <th>6</th>\n",
       "      <td>1477894</td>\n",
       "      <td>157711</td>\n",
       "      <td>The Meatball Shop</td>\n",
       "      <td>Italian</td>\n",
       "      <td>6.07</td>\n",
       "      <td>Weekend</td>\n",
       "      <td>Not given</td>\n",
       "      <td>28</td>\n",
       "      <td>21</td>\n",
       "    </tr>\n",
       "    <tr>\n",
       "      <th>7</th>\n",
       "      <td>1477859</td>\n",
       "      <td>89574</td>\n",
       "      <td>Barbounia</td>\n",
       "      <td>Mediterranean</td>\n",
       "      <td>5.97</td>\n",
       "      <td>Weekday</td>\n",
       "      <td>3</td>\n",
       "      <td>33</td>\n",
       "      <td>30</td>\n",
       "    </tr>\n",
       "    <tr>\n",
       "      <th>8</th>\n",
       "      <td>1477174</td>\n",
       "      <td>121706</td>\n",
       "      <td>Anjappar Chettinad</td>\n",
       "      <td>Indian</td>\n",
       "      <td>16.44</td>\n",
       "      <td>Weekday</td>\n",
       "      <td>5</td>\n",
       "      <td>21</td>\n",
       "      <td>26</td>\n",
       "    </tr>\n",
       "    <tr>\n",
       "      <th>9</th>\n",
       "      <td>1477311</td>\n",
       "      <td>39705</td>\n",
       "      <td>Bukhara Grill</td>\n",
       "      <td>Indian</td>\n",
       "      <td>7.18</td>\n",
       "      <td>Weekday</td>\n",
       "      <td>5</td>\n",
       "      <td>29</td>\n",
       "      <td>26</td>\n",
       "    </tr>\n",
       "    <tr>\n",
       "      <th>10</th>\n",
       "      <td>1477895</td>\n",
       "      <td>143926</td>\n",
       "      <td>Big Wong Restaurant _¤¾Ñ¼</td>\n",
       "      <td>Chinese</td>\n",
       "      <td>5.92</td>\n",
       "      <td>Weekday</td>\n",
       "      <td>Not given</td>\n",
       "      <td>34</td>\n",
       "      <td>28</td>\n",
       "    </tr>\n",
       "    <tr>\n",
       "      <th>11</th>\n",
       "      <td>1478437</td>\n",
       "      <td>221206</td>\n",
       "      <td>Empanada Mama (closed)</td>\n",
       "      <td>Mexican</td>\n",
       "      <td>8.10</td>\n",
       "      <td>Weekend</td>\n",
       "      <td>5</td>\n",
       "      <td>23</td>\n",
       "      <td>22</td>\n",
       "    </tr>\n",
       "    <tr>\n",
       "      <th>12</th>\n",
       "      <td>1476966</td>\n",
       "      <td>129969</td>\n",
       "      <td>Blue Ribbon Fried Chicken</td>\n",
       "      <td>American</td>\n",
       "      <td>24.30</td>\n",
       "      <td>Weekend</td>\n",
       "      <td>5</td>\n",
       "      <td>23</td>\n",
       "      <td>17</td>\n",
       "    </tr>\n",
       "    <tr>\n",
       "      <th>13</th>\n",
       "      <td>1477449</td>\n",
       "      <td>104548</td>\n",
       "      <td>Pylos</td>\n",
       "      <td>Mediterranean</td>\n",
       "      <td>11.30</td>\n",
       "      <td>Weekend</td>\n",
       "      <td>3</td>\n",
       "      <td>24</td>\n",
       "      <td>23</td>\n",
       "    </tr>\n",
       "    <tr>\n",
       "      <th>14</th>\n",
       "      <td>1478198</td>\n",
       "      <td>62667</td>\n",
       "      <td>Lucky's Famous Burgers</td>\n",
       "      <td>American</td>\n",
       "      <td>12.13</td>\n",
       "      <td>Weekday</td>\n",
       "      <td>Not given</td>\n",
       "      <td>23</td>\n",
       "      <td>30</td>\n",
       "    </tr>\n",
       "    <tr>\n",
       "      <th>15</th>\n",
       "      <td>1477414</td>\n",
       "      <td>66222</td>\n",
       "      <td>Shake Shack</td>\n",
       "      <td>American</td>\n",
       "      <td>16.20</td>\n",
       "      <td>Weekend</td>\n",
       "      <td>5</td>\n",
       "      <td>33</td>\n",
       "      <td>25</td>\n",
       "    </tr>\n",
       "    <tr>\n",
       "      <th>16</th>\n",
       "      <td>1477486</td>\n",
       "      <td>104555</td>\n",
       "      <td>Sushi of Gari</td>\n",
       "      <td>Japanese</td>\n",
       "      <td>16.98</td>\n",
       "      <td>Weekend</td>\n",
       "      <td>Not given</td>\n",
       "      <td>30</td>\n",
       "      <td>16</td>\n",
       "    </tr>\n",
       "    <tr>\n",
       "      <th>17</th>\n",
       "      <td>1477373</td>\n",
       "      <td>139885</td>\n",
       "      <td>Blue Ribbon Sushi Izakaya</td>\n",
       "      <td>Japanese</td>\n",
       "      <td>33.03</td>\n",
       "      <td>Weekend</td>\n",
       "      <td>Not given</td>\n",
       "      <td>21</td>\n",
       "      <td>22</td>\n",
       "    </tr>\n",
       "    <tr>\n",
       "      <th>18</th>\n",
       "      <td>1477138</td>\n",
       "      <td>47280</td>\n",
       "      <td>RedFarm Hudson</td>\n",
       "      <td>Chinese</td>\n",
       "      <td>14.12</td>\n",
       "      <td>Weekend</td>\n",
       "      <td>4</td>\n",
       "      <td>25</td>\n",
       "      <td>24</td>\n",
       "    </tr>\n",
       "    <tr>\n",
       "      <th>19</th>\n",
       "      <td>1477354</td>\n",
       "      <td>67487</td>\n",
       "      <td>Blue Ribbon Sushi</td>\n",
       "      <td>Japanese</td>\n",
       "      <td>16.20</td>\n",
       "      <td>Weekend</td>\n",
       "      <td>4</td>\n",
       "      <td>35</td>\n",
       "      <td>26</td>\n",
       "    </tr>\n",
       "    <tr>\n",
       "      <th>20</th>\n",
       "      <td>1478296</td>\n",
       "      <td>250494</td>\n",
       "      <td>Five Guys Burgers and Fries</td>\n",
       "      <td>American</td>\n",
       "      <td>24.20</td>\n",
       "      <td>Weekend</td>\n",
       "      <td>4</td>\n",
       "      <td>21</td>\n",
       "      <td>24</td>\n",
       "    </tr>\n",
       "    <tr>\n",
       "      <th>21</th>\n",
       "      <td>1478226</td>\n",
       "      <td>137565</td>\n",
       "      <td>Shake Shack</td>\n",
       "      <td>American</td>\n",
       "      <td>15.91</td>\n",
       "      <td>Weekend</td>\n",
       "      <td>Not given</td>\n",
       "      <td>25</td>\n",
       "      <td>20</td>\n",
       "    </tr>\n",
       "    <tr>\n",
       "      <th>22</th>\n",
       "      <td>1478287</td>\n",
       "      <td>150599</td>\n",
       "      <td>Shake Shack</td>\n",
       "      <td>American</td>\n",
       "      <td>29.10</td>\n",
       "      <td>Weekday</td>\n",
       "      <td>5</td>\n",
       "      <td>21</td>\n",
       "      <td>30</td>\n",
       "    </tr>\n",
       "    <tr>\n",
       "      <th>23</th>\n",
       "      <td>1478014</td>\n",
       "      <td>54630</td>\n",
       "      <td>Tortaria</td>\n",
       "      <td>Mexican</td>\n",
       "      <td>8.92</td>\n",
       "      <td>Weekend</td>\n",
       "      <td>Not given</td>\n",
       "      <td>33</td>\n",
       "      <td>16</td>\n",
       "    </tr>\n",
       "    <tr>\n",
       "      <th>24</th>\n",
       "      <td>1476714</td>\n",
       "      <td>363783</td>\n",
       "      <td>Cafe Mogador</td>\n",
       "      <td>Middle Eastern</td>\n",
       "      <td>15.86</td>\n",
       "      <td>Weekday</td>\n",
       "      <td>Not given</td>\n",
       "      <td>32</td>\n",
       "      <td>29</td>\n",
       "    </tr>\n",
       "    <tr>\n",
       "      <th>25</th>\n",
       "      <td>1476693</td>\n",
       "      <td>41877</td>\n",
       "      <td>Cafe Mogador</td>\n",
       "      <td>Middle Eastern</td>\n",
       "      <td>29.10</td>\n",
       "      <td>Weekday</td>\n",
       "      <td>5</td>\n",
       "      <td>20</td>\n",
       "      <td>29</td>\n",
       "    </tr>\n",
       "    <tr>\n",
       "      <th>26</th>\n",
       "      <td>1476995</td>\n",
       "      <td>371590</td>\n",
       "      <td>The Meatball Shop</td>\n",
       "      <td>Italian</td>\n",
       "      <td>21.88</td>\n",
       "      <td>Weekday</td>\n",
       "      <td>5</td>\n",
       "      <td>24</td>\n",
       "      <td>27</td>\n",
       "    </tr>\n",
       "    <tr>\n",
       "      <th>27</th>\n",
       "      <td>1476844</td>\n",
       "      <td>175290</td>\n",
       "      <td>Otto Enoteca Pizzeria</td>\n",
       "      <td>Italian</td>\n",
       "      <td>14.02</td>\n",
       "      <td>Weekend</td>\n",
       "      <td>Not given</td>\n",
       "      <td>24</td>\n",
       "      <td>16</td>\n",
       "    </tr>\n",
       "    <tr>\n",
       "      <th>28</th>\n",
       "      <td>1477015</td>\n",
       "      <td>76686</td>\n",
       "      <td>Vezzo Thin Crust Pizza</td>\n",
       "      <td>Italian</td>\n",
       "      <td>9.17</td>\n",
       "      <td>Weekend</td>\n",
       "      <td>Not given</td>\n",
       "      <td>21</td>\n",
       "      <td>24</td>\n",
       "    </tr>\n",
       "    <tr>\n",
       "      <th>29</th>\n",
       "      <td>1476889</td>\n",
       "      <td>149984</td>\n",
       "      <td>Sushi of Gari 46</td>\n",
       "      <td>Japanese</td>\n",
       "      <td>12.18</td>\n",
       "      <td>Weekday</td>\n",
       "      <td>Not given</td>\n",
       "      <td>20</td>\n",
       "      <td>29</td>\n",
       "    </tr>\n",
       "    <tr>\n",
       "      <th>30</th>\n",
       "      <td>1478289</td>\n",
       "      <td>318874</td>\n",
       "      <td>The Kati Roll Company</td>\n",
       "      <td>Indian</td>\n",
       "      <td>31.33</td>\n",
       "      <td>Weekend</td>\n",
       "      <td>5</td>\n",
       "      <td>28</td>\n",
       "      <td>25</td>\n",
       "    </tr>\n",
       "    <tr>\n",
       "      <th>31</th>\n",
       "      <td>1477699</td>\n",
       "      <td>302790</td>\n",
       "      <td>Klong</td>\n",
       "      <td>Thai</td>\n",
       "      <td>29.05</td>\n",
       "      <td>Weekend</td>\n",
       "      <td>5</td>\n",
       "      <td>35</td>\n",
       "      <td>24</td>\n",
       "    </tr>\n",
       "    <tr>\n",
       "      <th>32</th>\n",
       "      <td>1476855</td>\n",
       "      <td>317794</td>\n",
       "      <td>5 Napkin Burger</td>\n",
       "      <td>American</td>\n",
       "      <td>8.39</td>\n",
       "      <td>Weekday</td>\n",
       "      <td>Not given</td>\n",
       "      <td>35</td>\n",
       "      <td>24</td>\n",
       "    </tr>\n",
       "    <tr>\n",
       "      <th>33</th>\n",
       "      <td>1477748</td>\n",
       "      <td>105349</td>\n",
       "      <td>TAO</td>\n",
       "      <td>Japanese</td>\n",
       "      <td>9.12</td>\n",
       "      <td>Weekend</td>\n",
       "      <td>Not given</td>\n",
       "      <td>34</td>\n",
       "      <td>18</td>\n",
       "    </tr>\n",
       "    <tr>\n",
       "      <th>34</th>\n",
       "      <td>1478244</td>\n",
       "      <td>181782</td>\n",
       "      <td>Parm</td>\n",
       "      <td>Italian</td>\n",
       "      <td>29.10</td>\n",
       "      <td>Weekend</td>\n",
       "      <td>5</td>\n",
       "      <td>30</td>\n",
       "      <td>26</td>\n",
       "    </tr>\n",
       "    <tr>\n",
       "      <th>35</th>\n",
       "      <td>1478310</td>\n",
       "      <td>65224</td>\n",
       "      <td>Sushi Samba</td>\n",
       "      <td>Japanese</td>\n",
       "      <td>15.47</td>\n",
       "      <td>Weekend</td>\n",
       "      <td>Not given</td>\n",
       "      <td>32</td>\n",
       "      <td>26</td>\n",
       "    </tr>\n",
       "    <tr>\n",
       "      <th>36</th>\n",
       "      <td>1478017</td>\n",
       "      <td>148649</td>\n",
       "      <td>Blue Ribbon Sushi</td>\n",
       "      <td>Japanese</td>\n",
       "      <td>16.01</td>\n",
       "      <td>Weekday</td>\n",
       "      <td>4</td>\n",
       "      <td>23</td>\n",
       "      <td>31</td>\n",
       "    </tr>\n",
       "    <tr>\n",
       "      <th>37</th>\n",
       "      <td>1476871</td>\n",
       "      <td>118709</td>\n",
       "      <td>The Meatball Shop</td>\n",
       "      <td>Italian</td>\n",
       "      <td>24.30</td>\n",
       "      <td>Weekday</td>\n",
       "      <td>4</td>\n",
       "      <td>31</td>\n",
       "      <td>29</td>\n",
       "    </tr>\n",
       "    <tr>\n",
       "      <th>38</th>\n",
       "      <td>1477999</td>\n",
       "      <td>208020</td>\n",
       "      <td>Haru Gramercy Park</td>\n",
       "      <td>Japanese</td>\n",
       "      <td>29.83</td>\n",
       "      <td>Weekday</td>\n",
       "      <td>5</td>\n",
       "      <td>20</td>\n",
       "      <td>32</td>\n",
       "    </tr>\n",
       "    <tr>\n",
       "      <th>39</th>\n",
       "      <td>1476891</td>\n",
       "      <td>220693</td>\n",
       "      <td>Shake Shack</td>\n",
       "      <td>American</td>\n",
       "      <td>19.89</td>\n",
       "      <td>Weekend</td>\n",
       "      <td>Not given</td>\n",
       "      <td>27</td>\n",
       "      <td>19</td>\n",
       "    </tr>\n",
       "  </tbody>\n",
       "</table>\n",
       "</div>"
      ],
      "text/plain": [
       "    order_id  customer_id              restaurant_name    cuisine_type  \\\n",
       "0    1477147       337525                      Hangawi          Korean   \n",
       "1    1477685       358141    Blue Ribbon Sushi Izakaya        Japanese   \n",
       "2    1477070        66393                  Cafe Habana         Mexican   \n",
       "3    1477334       106968    Blue Ribbon Fried Chicken        American   \n",
       "4    1478249        76942             Dirty Bird to Go        American   \n",
       "5    1477224       147468             Tamarind TriBeCa          Indian   \n",
       "6    1477894       157711            The Meatball Shop         Italian   \n",
       "7    1477859        89574                    Barbounia   Mediterranean   \n",
       "8    1477174       121706           Anjappar Chettinad          Indian   \n",
       "9    1477311        39705                Bukhara Grill          Indian   \n",
       "10   1477895       143926   Big Wong Restaurant _¤¾Ñ¼         Chinese   \n",
       "11   1478437       221206       Empanada Mama (closed)         Mexican   \n",
       "12   1476966       129969    Blue Ribbon Fried Chicken        American   \n",
       "13   1477449       104548                        Pylos   Mediterranean   \n",
       "14   1478198        62667       Lucky's Famous Burgers        American   \n",
       "15   1477414        66222                  Shake Shack        American   \n",
       "16   1477486       104555                Sushi of Gari        Japanese   \n",
       "17   1477373       139885    Blue Ribbon Sushi Izakaya        Japanese   \n",
       "18   1477138        47280               RedFarm Hudson         Chinese   \n",
       "19   1477354        67487            Blue Ribbon Sushi        Japanese   \n",
       "20   1478296       250494  Five Guys Burgers and Fries        American   \n",
       "21   1478226       137565                  Shake Shack        American   \n",
       "22   1478287       150599                  Shake Shack        American   \n",
       "23   1478014        54630                     Tortaria         Mexican   \n",
       "24   1476714       363783                 Cafe Mogador  Middle Eastern   \n",
       "25   1476693        41877                 Cafe Mogador  Middle Eastern   \n",
       "26   1476995       371590            The Meatball Shop         Italian   \n",
       "27   1476844       175290        Otto Enoteca Pizzeria         Italian   \n",
       "28   1477015        76686       Vezzo Thin Crust Pizza         Italian   \n",
       "29   1476889       149984             Sushi of Gari 46        Japanese   \n",
       "30   1478289       318874        The Kati Roll Company          Indian   \n",
       "31   1477699       302790                        Klong            Thai   \n",
       "32   1476855       317794              5 Napkin Burger        American   \n",
       "33   1477748       105349                          TAO        Japanese   \n",
       "34   1478244       181782                         Parm         Italian   \n",
       "35   1478310        65224                  Sushi Samba        Japanese   \n",
       "36   1478017       148649            Blue Ribbon Sushi        Japanese   \n",
       "37   1476871       118709            The Meatball Shop         Italian   \n",
       "38   1477999       208020           Haru Gramercy Park        Japanese   \n",
       "39   1476891       220693                  Shake Shack        American   \n",
       "\n",
       "    cost_of_the_order day_of_the_week     rating  food_preparation_time  \\\n",
       "0               30.75         Weekend  Not given                     25   \n",
       "1               12.08         Weekend  Not given                     25   \n",
       "2               12.23         Weekday          5                     23   \n",
       "3               29.20         Weekend          3                     25   \n",
       "4               11.59         Weekday          4                     25   \n",
       "5               25.22         Weekday          3                     20   \n",
       "6                6.07         Weekend  Not given                     28   \n",
       "7                5.97         Weekday          3                     33   \n",
       "8               16.44         Weekday          5                     21   \n",
       "9                7.18         Weekday          5                     29   \n",
       "10               5.92         Weekday  Not given                     34   \n",
       "11               8.10         Weekend          5                     23   \n",
       "12              24.30         Weekend          5                     23   \n",
       "13              11.30         Weekend          3                     24   \n",
       "14              12.13         Weekday  Not given                     23   \n",
       "15              16.20         Weekend          5                     33   \n",
       "16              16.98         Weekend  Not given                     30   \n",
       "17              33.03         Weekend  Not given                     21   \n",
       "18              14.12         Weekend          4                     25   \n",
       "19              16.20         Weekend          4                     35   \n",
       "20              24.20         Weekend          4                     21   \n",
       "21              15.91         Weekend  Not given                     25   \n",
       "22              29.10         Weekday          5                     21   \n",
       "23               8.92         Weekend  Not given                     33   \n",
       "24              15.86         Weekday  Not given                     32   \n",
       "25              29.10         Weekday          5                     20   \n",
       "26              21.88         Weekday          5                     24   \n",
       "27              14.02         Weekend  Not given                     24   \n",
       "28               9.17         Weekend  Not given                     21   \n",
       "29              12.18         Weekday  Not given                     20   \n",
       "30              31.33         Weekend          5                     28   \n",
       "31              29.05         Weekend          5                     35   \n",
       "32               8.39         Weekday  Not given                     35   \n",
       "33               9.12         Weekend  Not given                     34   \n",
       "34              29.10         Weekend          5                     30   \n",
       "35              15.47         Weekend  Not given                     32   \n",
       "36              16.01         Weekday          4                     23   \n",
       "37              24.30         Weekday          4                     31   \n",
       "38              29.83         Weekday          5                     20   \n",
       "39              19.89         Weekend  Not given                     27   \n",
       "\n",
       "    delivery_time  \n",
       "0              20  \n",
       "1              23  \n",
       "2              28  \n",
       "3              15  \n",
       "4              24  \n",
       "5              24  \n",
       "6              21  \n",
       "7              30  \n",
       "8              26  \n",
       "9              26  \n",
       "10             28  \n",
       "11             22  \n",
       "12             17  \n",
       "13             23  \n",
       "14             30  \n",
       "15             25  \n",
       "16             16  \n",
       "17             22  \n",
       "18             24  \n",
       "19             26  \n",
       "20             24  \n",
       "21             20  \n",
       "22             30  \n",
       "23             16  \n",
       "24             29  \n",
       "25             29  \n",
       "26             27  \n",
       "27             16  \n",
       "28             24  \n",
       "29             29  \n",
       "30             25  \n",
       "31             24  \n",
       "32             24  \n",
       "33             18  \n",
       "34             26  \n",
       "35             26  \n",
       "36             31  \n",
       "37             29  \n",
       "38             32  \n",
       "39             19  "
      ]
     },
     "execution_count": 54,
     "metadata": {},
     "output_type": "execute_result"
    }
   ],
   "source": [
    "# Read the data\n",
    "df = pd.read_csv (r'C:\\Users\\User\\Documents\\AILEAD\\POWERBI\\foodhub_order.csv') ## Fill the blank to read the data\n",
    "# Returns the first 5 rows\n",
    "df.head(40)"
   ]
  },
  {
   "cell_type": "markdown",
   "metadata": {
    "id": "AeR7rXZF2rdE"
   },
   "source": [
    "### **Question 1:** How many rows and columns are present in the data? [0.5 mark]"
   ]
  },
  {
   "cell_type": "code",
   "execution_count": 6,
   "metadata": {
    "id": "xaLu_bAm2rdE"
   },
   "outputs": [
    {
     "data": {
      "text/plain": [
       "(1898, 9)"
      ]
     },
     "execution_count": 6,
     "metadata": {},
     "output_type": "execute_result"
    }
   ],
   "source": [
    "# Check the shape of the dataset\n",
    "df.shape ## Fill in the blank"
   ]
  },
  {
   "cell_type": "markdown",
   "metadata": {
    "id": "-YJkCL112rdF"
   },
   "source": [
    "### **Question 2:** What are the datatypes of the different columns in the dataset? [0.5 mark]"
   ]
  },
  {
   "cell_type": "code",
   "execution_count": 7,
   "metadata": {
    "id": "EUXmdNxe2rdF"
   },
   "outputs": [
    {
     "data": {
      "text/plain": [
       "order_id                   int64\n",
       "customer_id                int64\n",
       "restaurant_name           object\n",
       "cuisine_type              object\n",
       "cost_of_the_order        float64\n",
       "day_of_the_week           object\n",
       "rating                    object\n",
       "food_preparation_time      int64\n",
       "delivery_time              int64\n",
       "dtype: object"
      ]
     },
     "execution_count": 7,
     "metadata": {},
     "output_type": "execute_result"
    }
   ],
   "source": [
    "df.dtypes"
   ]
  },
  {
   "cell_type": "markdown",
   "metadata": {
    "id": "Atn8lGeE2rdF"
   },
   "source": [
    "### **Question 3:** Are there any missing values in the data? If yes, treat them using an appropriate method.  [1 Mark]"
   ]
  },
  {
   "cell_type": "code",
   "execution_count": 8,
   "metadata": {
    "id": "kZbMrwFC2rdG"
   },
   "outputs": [
    {
     "data": {
      "text/plain": [
       "order_id                 0\n",
       "customer_id              0\n",
       "restaurant_name          0\n",
       "cuisine_type             0\n",
       "cost_of_the_order        0\n",
       "day_of_the_week          0\n",
       "rating                   0\n",
       "food_preparation_time    0\n",
       "delivery_time            0\n",
       "dtype: int64"
      ]
     },
     "execution_count": 8,
     "metadata": {},
     "output_type": "execute_result"
    }
   ],
   "source": [
    "# Checking for missing values in the data\n",
    "df.isnull().sum()  #Write the appropriate function to print the sum of null values for each column"
   ]
  },
  {
   "cell_type": "markdown",
   "metadata": {
    "id": "krjqvuKv2rdG"
   },
   "source": [
    "### **Question 4:** Check the statistical summary of the data. What is the minimum, average, and maximum time it takes for food to be prepared once an order is placed? [2 marks]"
   ]
  },
  {
   "cell_type": "code",
   "execution_count": 10,
   "metadata": {
    "id": "MDZkL24f2rdG"
   },
   "outputs": [
    {
     "data": {
      "text/html": [
       "<div>\n",
       "<style scoped>\n",
       "    .dataframe tbody tr th:only-of-type {\n",
       "        vertical-align: middle;\n",
       "    }\n",
       "\n",
       "    .dataframe tbody tr th {\n",
       "        vertical-align: top;\n",
       "    }\n",
       "\n",
       "    .dataframe thead th {\n",
       "        text-align: right;\n",
       "    }\n",
       "</style>\n",
       "<table border=\"1\" class=\"dataframe\">\n",
       "  <thead>\n",
       "    <tr style=\"text-align: right;\">\n",
       "      <th></th>\n",
       "      <th>count</th>\n",
       "      <th>mean</th>\n",
       "      <th>std</th>\n",
       "      <th>min</th>\n",
       "      <th>25%</th>\n",
       "      <th>50%</th>\n",
       "      <th>75%</th>\n",
       "      <th>max</th>\n",
       "    </tr>\n",
       "  </thead>\n",
       "  <tbody>\n",
       "    <tr>\n",
       "      <th>order_id</th>\n",
       "      <td>1898.0</td>\n",
       "      <td>1.477496e+06</td>\n",
       "      <td>548.049724</td>\n",
       "      <td>1476547.00</td>\n",
       "      <td>1477021.25</td>\n",
       "      <td>1477495.50</td>\n",
       "      <td>1.477970e+06</td>\n",
       "      <td>1478444.00</td>\n",
       "    </tr>\n",
       "    <tr>\n",
       "      <th>customer_id</th>\n",
       "      <td>1898.0</td>\n",
       "      <td>1.711685e+05</td>\n",
       "      <td>113698.139743</td>\n",
       "      <td>1311.00</td>\n",
       "      <td>77787.75</td>\n",
       "      <td>128600.00</td>\n",
       "      <td>2.705250e+05</td>\n",
       "      <td>405334.00</td>\n",
       "    </tr>\n",
       "    <tr>\n",
       "      <th>cost_of_the_order</th>\n",
       "      <td>1898.0</td>\n",
       "      <td>1.649885e+01</td>\n",
       "      <td>7.483812</td>\n",
       "      <td>4.47</td>\n",
       "      <td>12.08</td>\n",
       "      <td>14.14</td>\n",
       "      <td>2.229750e+01</td>\n",
       "      <td>35.41</td>\n",
       "    </tr>\n",
       "    <tr>\n",
       "      <th>food_preparation_time</th>\n",
       "      <td>1898.0</td>\n",
       "      <td>2.737197e+01</td>\n",
       "      <td>4.632481</td>\n",
       "      <td>20.00</td>\n",
       "      <td>23.00</td>\n",
       "      <td>27.00</td>\n",
       "      <td>3.100000e+01</td>\n",
       "      <td>35.00</td>\n",
       "    </tr>\n",
       "    <tr>\n",
       "      <th>delivery_time</th>\n",
       "      <td>1898.0</td>\n",
       "      <td>2.416175e+01</td>\n",
       "      <td>4.972637</td>\n",
       "      <td>15.00</td>\n",
       "      <td>20.00</td>\n",
       "      <td>25.00</td>\n",
       "      <td>2.800000e+01</td>\n",
       "      <td>33.00</td>\n",
       "    </tr>\n",
       "  </tbody>\n",
       "</table>\n",
       "</div>"
      ],
      "text/plain": [
       "                        count          mean            std         min  \\\n",
       "order_id               1898.0  1.477496e+06     548.049724  1476547.00   \n",
       "customer_id            1898.0  1.711685e+05  113698.139743     1311.00   \n",
       "cost_of_the_order      1898.0  1.649885e+01       7.483812        4.47   \n",
       "food_preparation_time  1898.0  2.737197e+01       4.632481       20.00   \n",
       "delivery_time          1898.0  2.416175e+01       4.972637       15.00   \n",
       "\n",
       "                              25%         50%           75%         max  \n",
       "order_id               1477021.25  1477495.50  1.477970e+06  1478444.00  \n",
       "customer_id              77787.75   128600.00  2.705250e+05   405334.00  \n",
       "cost_of_the_order           12.08       14.14  2.229750e+01       35.41  \n",
       "food_preparation_time       23.00       27.00  3.100000e+01       35.00  \n",
       "delivery_time               20.00       25.00  2.800000e+01       33.00  "
      ]
     },
     "execution_count": 10,
     "metadata": {},
     "output_type": "execute_result"
    }
   ],
   "source": [
    "# Get the summary statistics of the numerical data\n",
    "df.describe().T ## Write the appropriate function to print the statitical summary of the data (Hint - you have seen this in the case studies before)\n",
    "#the minimum deleivery time is 20 mins, maximum is 35 mins, average is 27 mins"
   ]
  },
  {
   "cell_type": "markdown",
   "metadata": {
    "id": "LDlbXZWG2rdH"
   },
   "source": [
    "### **Question 5:** How many orders are not rated? [1 mark]"
   ]
  },
  {
   "cell_type": "code",
   "execution_count": 58,
   "metadata": {
    "id": "RUJo1me22rdH"
   },
   "outputs": [
    {
     "data": {
      "text/plain": [
       "0.9999999999999999"
      ]
     },
     "execution_count": 58,
     "metadata": {},
     "output_type": "execute_result"
    }
   ],
   "source": [
    "df['rating'].value_counts('rating').sum()## Complete the code"
   ]
  },
  {
   "cell_type": "markdown",
   "metadata": {
    "id": "LUh8hTiW2rdH"
   },
   "source": [
    "### Exploratory Data Analysis (EDA)"
   ]
  },
  {
   "cell_type": "markdown",
   "metadata": {
    "id": "2Dl2aL1W2rdI"
   },
   "source": [
    "### Univariate Analysis"
   ]
  },
  {
   "cell_type": "markdown",
   "metadata": {
    "id": "gxBiurJ-2rdI"
   },
   "source": [
    "### **Question 6:** Explore all the variables and provide observations on their distributions. (Generally, histograms, boxplots, countplots, etc. are used for univariate exploration.) [9 marks]"
   ]
  },
  {
   "cell_type": "markdown",
   "metadata": {
    "id": "TXEjEAXqbZmQ"
   },
   "source": [
    "#### Order ID"
   ]
  },
  {
   "cell_type": "code",
   "execution_count": 15,
   "metadata": {
    "id": "cmmmjUyebZmQ"
   },
   "outputs": [
    {
     "data": {
      "text/plain": [
       "1898"
      ]
     },
     "execution_count": 15,
     "metadata": {},
     "output_type": "execute_result"
    }
   ],
   "source": [
    "# check unique order ID\n",
    "df['order_id'].nunique()"
   ]
  },
  {
   "cell_type": "markdown",
   "metadata": {
    "id": "ts6l2h0abZmQ"
   },
   "source": [
    "#### Customer ID"
   ]
  },
  {
   "cell_type": "code",
   "execution_count": 28,
   "metadata": {
    "id": "yZRW2FBSbZmQ"
   },
   "outputs": [
    {
     "data": {
      "text/plain": [
       "1200"
      ]
     },
     "execution_count": 28,
     "metadata": {},
     "output_type": "execute_result"
    }
   ],
   "source": [
    "# check unique customer ID\n",
    "df['customer_id'].nunique()  ## Complete the code to find out number of unique Customer ID"
   ]
  },
  {
   "cell_type": "markdown",
   "metadata": {
    "id": "mgv5gIIEbZmR"
   },
   "source": [
    "#### Restaurant name"
   ]
  },
  {
   "cell_type": "code",
   "execution_count": null,
   "metadata": {
    "id": "GYGzUuzcbZmR"
   },
   "outputs": [],
   "source": [
    "# check unique Restaurant Name\n",
    "df['restaurant_name'].nunique()   ## Complete the code to find out number of unique Restaurant Name"
   ]
  },
  {
   "cell_type": "markdown",
   "metadata": {
    "id": "X7jR8GHN2rdK"
   },
   "source": [
    "#### Cuisine type"
   ]
  },
  {
   "cell_type": "code",
   "execution_count": null,
   "metadata": {
    "id": "uFd2adxc2rdK"
   },
   "outputs": [],
   "source": [
    "# Check unique cuisine type\n",
    "df['cuisine_type'].nunique()  ## Complete the code to find out  number of  unique cuisine type"
   ]
  },
  {
   "cell_type": "code",
   "execution_count": 52,
   "metadata": {
    "id": "4JHi590P2rdK",
    "scrolled": true
   },
   "outputs": [
    {
     "data": {
      "text/plain": [
       "<Axes: xlabel='cuisine_type', ylabel='count'>"
      ]
     },
     "execution_count": 52,
     "metadata": {},
     "output_type": "execute_result"
    },
    {
     "data": {
      "image/png": "[encoded data removed]",
      "text/plain": [
       "<Figure size 1500x300 with 1 Axes>"
      ]
     },
     "metadata": {},
     "output_type": "display_data"
    }
   ],
   "source": [
    "plt.figure(figsize = (15,3))\n",
    "sns.countplot(data = df, x = 'cuisine_type') ## Create a countplot for cuisine type.\n",
    "#The American cusine is the most ordered cuisine in New York, which is most likely due to high population of Americans in the city. "
   ]
  },
  {
   "cell_type": "markdown",
   "metadata": {
    "id": "fmWW_qb42rdL"
   },
   "source": [
    "#### Cost of the order"
   ]
  },
  {
   "cell_type": "code",
   "execution_count": 19,
   "metadata": {
    "id": "kq1lIbf42rdL"
   },
   "outputs": [
    {
     "name": "stderr",
     "output_type": "stream",
     "text": [
      "C:\\Users\\User\\anaconda3\\Lib\\site-packages\\seaborn\\_oldcore.py:1119: FutureWarning: use_inf_as_na option is deprecated and will be removed in a future version. Convert inf values to NaN before operating instead.\n",
      "  with pd.option_context('mode.use_inf_as_na', True):\n"
     ]
    },
    {
     "data": {
      "image/png": "[encoded data removed]",
      "text/plain": [
       "<Figure size 640x480 with 1 Axes>"
      ]
     },
     "metadata": {},
     "output_type": "display_data"
    },
    {
     "data": {
      "image/png": "[encoded data removed]",
      "text/plain": [
       "<Figure size 640x480 with 1 Axes>"
      ]
     },
     "metadata": {},
     "output_type": "display_data"
    }
   ],
   "source": [
    "sns.histplot(data=df,x='cost_of_the_order') ## Histogram for the cost of order\n",
    "plt.show()\n",
    "sns.boxplot(data=df,x='cost_of_the_order') ## Boxplot for the cost of order\n",
    "plt.show()"
   ]
  },
  {
   "cell_type": "markdown",
   "metadata": {
    "id": "p34KqEqx2rdL"
   },
   "source": [
    "#### Day of the week"
   ]
  },
  {
   "cell_type": "code",
   "execution_count": 10,
   "metadata": {
    "id": "KBMjgXjv2rdL"
   },
   "outputs": [
    {
     "data": {
      "text/plain": [
       "2"
      ]
     },
     "execution_count": 10,
     "metadata": {},
     "output_type": "execute_result"
    }
   ],
   "source": [
    "# # Check the unique values\n",
    "df['day_of_the_week'].nunique() ## Complete the code to check unique values for the 'day_of_the_week' column"
   ]
  },
  {
   "cell_type": "code",
   "execution_count": 26,
   "metadata": {
    "id": "Q5jvwJkZ2rdL"
   },
   "outputs": [
    {
     "data": {
      "text/plain": [
       "<Axes: xlabel='day_of_the_week', ylabel='count'>"
      ]
     },
     "execution_count": 26,
     "metadata": {},
     "output_type": "execute_result"
    },
    {
     "data": {
      "image/png": "[encoded data removed]",
      "text/plain": [
       "<Figure size 400x300 with 1 Axes>"
      ]
     },
     "metadata": {},
     "output_type": "display_data"
    }
   ],
   "source": [
    "plt.figure(figsize = (4,3))\n",
    "sns.countplot(data = df, x = 'day_of_the_week') ## Complete the code to plot a bar graph for 'day_of_the_week' column"
   ]
  },
  {
   "cell_type": "markdown",
   "metadata": {
    "id": "1oOW_lzO2rdL"
   },
   "source": [
    "#### Rating"
   ]
  },
  {
   "cell_type": "code",
   "execution_count": 30,
   "metadata": {
    "id": "TNxjskCF2rdL",
    "scrolled": true
   },
   "outputs": [
    {
     "data": {
      "text/plain": [
       "4"
      ]
     },
     "execution_count": 30,
     "metadata": {},
     "output_type": "execute_result"
    }
   ],
   "source": [
    "# Check the unique values\n",
    "df['rating'].nunique()  ## Complete the code to check unique values for the 'rating' column"
   ]
  },
  {
   "cell_type": "code",
   "execution_count": 41,
   "metadata": {
    "id": "aP_djdHY2rdM",
    "scrolled": true
   },
   "outputs": [
    {
     "data": {
      "text/plain": [
       "<Axes: xlabel='rating', ylabel='count'>"
      ]
     },
     "execution_count": 41,
     "metadata": {},
     "output_type": "execute_result"
    },
    {
     "data": {
      "image/png": "[encoded data removed]",
      "text/plain": [
       "<Figure size 400x300 with 1 Axes>"
      ]
     },
     "metadata": {},
     "output_type": "display_data"
    }
   ],
   "source": [
    "plt.figure(figsize = (4,3))\n",
    "sns.countplot(data = df, x = 'rating') ## Complete the code to plot bar graph for 'rating' column"
   ]
  },
  {
   "cell_type": "markdown",
   "metadata": {
    "id": "OP1gYWnR2rdM"
   },
   "source": [
    "#### Food Preparation time"
   ]
  },
  {
   "cell_type": "code",
   "execution_count": 43,
   "metadata": {
    "id": "TYiF3h3t2rdM",
    "scrolled": true
   },
   "outputs": [
    {
     "name": "stderr",
     "output_type": "stream",
     "text": [
      "C:\\Users\\User\\anaconda3\\Lib\\site-packages\\seaborn\\_oldcore.py:1119: FutureWarning: use_inf_as_na option is deprecated and will be removed in a future version. Convert inf values to NaN before operating instead.\n",
      "  with pd.option_context('mode.use_inf_as_na', True):\n"
     ]
    },
    {
     "data": {
      "image/png": "[encoded data removed]",
      "text/plain": [
       "<Figure size 640x480 with 1 Axes>"
      ]
     },
     "metadata": {},
     "output_type": "display_data"
    },
    {
     "data": {
      "image/png": "[encoded data removed]",
      "text/plain": [
       "<Figure size 640x480 with 1 Axes>"
      ]
     },
     "metadata": {},
     "output_type": "display_data"
    }
   ],
   "source": [
    "sns.histplot(data=df,x='cost_of_the_order') ## Complete the code to plot the histogram for the cost of order\n",
    "plt.show()\n",
    "sns.boxplot(data=df,x='cost_of_the_order') ## Complete the code to plot the boxplot for the cost of order\n",
    "plt.show()"
   ]
  },
  {
   "cell_type": "markdown",
   "metadata": {
    "id": "ENW0PF5b2rdM"
   },
   "source": [
    "#### Delivery time"
   ]
  },
  {
   "cell_type": "code",
   "execution_count": 42,
   "metadata": {},
   "outputs": [
    {
     "data": {
      "text/html": [
       "<div>\n",
       "<style scoped>\n",
       "    .dataframe tbody tr th:only-of-type {\n",
       "        vertical-align: middle;\n",
       "    }\n",
       "\n",
       "    .dataframe tbody tr th {\n",
       "        vertical-align: top;\n",
       "    }\n",
       "\n",
       "    .dataframe thead th {\n",
       "        text-align: right;\n",
       "    }\n",
       "</style>\n",
       "<table border=\"1\" class=\"dataframe\">\n",
       "  <thead>\n",
       "    <tr style=\"text-align: right;\">\n",
       "      <th></th>\n",
       "      <th>order_id</th>\n",
       "      <th>customer_id</th>\n",
       "      <th>restaurant_name</th>\n",
       "      <th>cuisine_type</th>\n",
       "      <th>cost_of_the_order</th>\n",
       "      <th>day_of_the_week</th>\n",
       "      <th>rating</th>\n",
       "      <th>food_preparation_time</th>\n",
       "      <th>delivery_time</th>\n",
       "    </tr>\n",
       "  </thead>\n",
       "  <tbody>\n",
       "    <tr>\n",
       "      <th>0</th>\n",
       "      <td>1477147</td>\n",
       "      <td>337525</td>\n",
       "      <td>Hangawi</td>\n",
       "      <td>Korean</td>\n",
       "      <td>30.75</td>\n",
       "      <td>Weekend</td>\n",
       "      <td>Not given</td>\n",
       "      <td>25</td>\n",
       "      <td>20</td>\n",
       "    </tr>\n",
       "  </tbody>\n",
       "</table>\n",
       "</div>"
      ],
      "text/plain": [
       "   order_id  customer_id restaurant_name cuisine_type  cost_of_the_order  \\\n",
       "0   1477147       337525         Hangawi       Korean              30.75   \n",
       "\n",
       "  day_of_the_week     rating  food_preparation_time  delivery_time  \n",
       "0         Weekend  Not given                     25             20  "
      ]
     },
     "execution_count": 42,
     "metadata": {},
     "output_type": "execute_result"
    }
   ],
   "source": [
    "df.head(1)"
   ]
  },
  {
   "cell_type": "code",
   "execution_count": 44,
   "metadata": {
    "id": "_1ZcT_SM2rdM",
    "scrolled": true
   },
   "outputs": [
    {
     "name": "stderr",
     "output_type": "stream",
     "text": [
      "C:\\Users\\User\\anaconda3\\Lib\\site-packages\\seaborn\\_oldcore.py:1119: FutureWarning: use_inf_as_na option is deprecated and will be removed in a future version. Convert inf values to NaN before operating instead.\n",
      "  with pd.option_context('mode.use_inf_as_na', True):\n"
     ]
    },
    {
     "data": {
      "image/png": "[encoded data removed]",
      "text/plain": [
       "<Figure size 640x480 with 1 Axes>"
      ]
     },
     "metadata": {},
     "output_type": "display_data"
    },
    {
     "data": {
      "image/png": "[encoded data removed]",
      "text/plain": [
       "<Figure size 640x480 with 1 Axes>"
      ]
     },
     "metadata": {},
     "output_type": "display_data"
    }
   ],
   "source": [
    "sns.histplot(data=df,x='delivery_time') ## Complete the code to plot the histogram for the delivery time\n",
    "plt.show()\n",
    "sns.boxplot(data=df,x='delivery_time') ## Complete the code to plot the boxplot for the delivery time\n",
    "plt.show()"
   ]
  },
  {
   "cell_type": "markdown",
   "metadata": {
    "id": "HMwsI8f32rdM"
   },
   "source": [
    "### **Question 7:** Which are the top 5 restaurants in terms of the number of orders received? [1 mark]"
   ]
  },
  {
   "cell_type": "code",
   "execution_count": 14,
   "metadata": {
    "id": "OLQISNlc2rdM"
   },
   "outputs": [
    {
     "data": {
      "text/plain": [
       "restaurant_name\n",
       "Shake Shack                  219\n",
       "The Meatball Shop            132\n",
       "Blue Ribbon Sushi            119\n",
       "Blue Ribbon Fried Chicken     96\n",
       "Parm                          68\n",
       "Name: count, dtype: int64"
      ]
     },
     "execution_count": 14,
     "metadata": {},
     "output_type": "execute_result"
    }
   ],
   "source": [
    "# Get top 5 restaurants with highest number of orders\n",
    "df['restaurant_name'].value_counts().head(5) ## Complete the code"
   ]
  },
  {
   "cell_type": "markdown",
   "metadata": {
    "id": "OV26KAC42rdN"
   },
   "source": [
    "### **Question 8:** Which is the most popular cuisine on weekends? [1 mark]"
   ]
  },
  {
   "cell_type": "code",
   "execution_count": 53,
   "metadata": {
    "id": "BqL62Kuu2rdN"
   },
   "outputs": [
    {
     "data": {
      "text/plain": [
       "'Vietnamese'"
      ]
     },
     "execution_count": 53,
     "metadata": {},
     "output_type": "execute_result"
    }
   ],
   "source": [
    "# Get most popular cuisine on weekends\n",
    "df_weekend = df[df['day_of_the_week'] == 'Weekend']\n",
    "df_weekend['cuisine_type'].max() ## Complete the code to check unique values for the cuisine type on weekend"
   ]
  },
  {
   "cell_type": "markdown",
   "metadata": {
    "id": "UPFNE6Da2rdN"
   },
   "source": [
    "### **Question 9:** What percentage of the orders cost more than 20 dollars? [2 marks]\n"
   ]
  },
  {
   "cell_type": "code",
   "execution_count": 45,
   "metadata": {
    "id": "gHlH53rJ2rdN"
   },
   "outputs": [
    {
     "name": "stdout",
     "output_type": "stream",
     "text": [
      "The number of total orders that cost above 20 dollars is: 555\n",
      "Percentage of orders above 20 dollars: 29.24 %\n"
     ]
    }
   ],
   "source": [
    "# Get orders that cost above 20 dollars\n",
    "df_greater_than_20 = df[df['cost_of_the_order']>20] ## Write the appropriate column name to get the orders having cost above $20\n",
    "\n",
    "# Calculate the number of total orders where the cost is above 20 dollars\n",
    "print('The number of total orders that cost above 20 dollars is:', df_greater_than_20.shape[0])\n",
    "\n",
    "# Calculate percentage of such orders in the dataset\n",
    "percentage = (df_greater_than_20.shape[0] / df.shape[0]) * 100\n",
    "\n",
    "print(\"Percentage of orders above 20 dollars:\", round(percentage, 2), '%')"
   ]
  },
  {
   "cell_type": "markdown",
   "metadata": {
    "id": "rmOXTij42rdN"
   },
   "source": [
    "### **Question 10:** What is the mean order delivery time? [1 mark]"
   ]
  },
  {
   "cell_type": "code",
   "execution_count": 46,
   "metadata": {
    "id": "733fsOoO2rdN"
   },
   "outputs": [
    {
     "name": "stdout",
     "output_type": "stream",
     "text": [
      "The mean delivery time for this dataset is 24.16 minutes\n"
     ]
    }
   ],
   "source": [
    "# Get the mean delivery time\n",
    "mean_del_time = df['delivery_time'].mean()  ## Write the appropriate function to obtain the mean delivery time\n",
    "\n",
    "print('The mean delivery time for this dataset is', round(mean_del_time, 2), 'minutes')"
   ]
  },
  {
   "cell_type": "markdown",
   "metadata": {
    "id": "7C_G-BEy2rdO"
   },
   "source": [
    "### **Question 11:** The company has decided to give 20% discount vouchers to the top 3 most frequent customers. Find the IDs of these customers and the number of orders they placed. [1 mark]"
   ]
  },
  {
   "cell_type": "code",
   "execution_count": 12,
   "metadata": {
    "id": "U-husHb6F5lY"
   },
   "outputs": [
    {
     "data": {
      "text/plain": [
       "customer_id\n",
       "52832    13\n",
       "47440    10\n",
       "83287     9\n",
       "Name: count, dtype: int64"
      ]
     },
     "execution_count": 12,
     "metadata": {},
     "output_type": "execute_result"
    }
   ],
   "source": [
    "# Get the counts of  each customer_id\n",
    "df['customer_id'].value_counts().head(3)  ## Write the appropriate column name to get the top 5 cmost frequent customers"
   ]
  },
  {
   "cell_type": "markdown",
   "metadata": {
    "id": "4ceeYAVy2rdO"
   },
   "source": [
    "### Multivariate Analysis"
   ]
  },
  {
   "cell_type": "markdown",
   "metadata": {
    "id": "h-gdOXrS2rdO"
   },
   "source": [
    "### **Question 12:** Perform a multivariate analysis to explore relationships between the important variables in the dataset. (It is a good idea to explore relations between numerical variables as well as relations between numerical and categorical variables) [10 marks]"
   ]
  },
  {
   "cell_type": "markdown",
   "metadata": {
    "id": "sTYfSbdR2rdO"
   },
   "source": [
    "#### Cuisine vs Cost of the order"
   ]
  },
  {
   "cell_type": "code",
   "execution_count": 15,
   "metadata": {
    "id": "wzJpBxZQ2rdP"
   },
   "outputs": [
    {
     "data": {
      "image/png": "[encoded data removed]",
      "text/plain": [
       "<Figure size 1500x700 with 1 Axes>"
      ]
     },
     "metadata": {},
     "output_type": "display_data"
    }
   ],
   "source": [
    "# Relationship between cost of the order and cuisine type\n",
    "plt.figure(figsize=(15,7))\n",
    "sns.boxplot(x = \"cuisine_type\", y = \"cost_of_the_order\", data = df, palette = 'PuBu')\n",
    "plt.xticks(rotation = 60)\n",
    "plt.show()"
   ]
  },
  {
   "cell_type": "markdown",
   "metadata": {
    "id": "cmf4oTiB2rdQ"
   },
   "source": [
    "#### Cuisine vs Food Preparation time"
   ]
  },
  {
   "cell_type": "code",
   "execution_count": 29,
   "metadata": {
    "id": "cfeDWTgN2rdQ",
    "scrolled": true
   },
   "outputs": [
    {
     "data": {
      "image/png": "[encoded data removed]",
      "text/plain": [
       "<Figure size 1000x700 with 1 Axes>"
      ]
     },
     "metadata": {},
     "output_type": "display_data"
    }
   ],
   "source": [
    "# Relationship between food preparation time and cuisine type\n",
    "plt.figure(figsize=(10,7))\n",
    "sns.boxplot(x = \"cuisine_type\", y = \"food_preparation_time\", data = df, palette = 'PuBu')  \n",
    "plt.xticks(rotation = 60)\n",
    "plt.show()\n",
    "\n",
    "#Complete the code to visualize the relationship between food preparation time and cuisine type using boxplot"
   ]
  },
  {
   "cell_type": "markdown",
   "metadata": {
    "id": "28L5vjZw2rdQ"
   },
   "source": [
    "#### Day of the Week vs Delivery time"
   ]
  },
  {
   "cell_type": "code",
   "execution_count": 34,
   "metadata": {
    "id": "fG3QyQ452rdQ",
    "scrolled": true
   },
   "outputs": [
    {
     "data": {
      "image/png": "[encoded data removed]",
      "text/plain": [
       "<Figure size 600x700 with 1 Axes>"
      ]
     },
     "metadata": {},
     "output_type": "display_data"
    }
   ],
   "source": [
    "# Relationship between day of the week and delivery time\n",
    "plt.figure(figsize=(6,7))\n",
    "sns.boxplot(x = \"day_of_the_week\", y = \"delivery_time\", data = df, palette = 'PuBu')  ## Complete the code to visualize the relationship between day of the week and delivery time using boxplot\n",
    "plt.show()"
   ]
  },
  {
   "cell_type": "markdown",
   "metadata": {
    "id": "UnppMp022rdQ"
   },
   "source": [
    "#### Run the below code and write your observations on the revenue generated by the restaurants."
   ]
  },
  {
   "cell_type": "code",
   "execution_count": 35,
   "metadata": {
    "id": "LaDfuzIt2rdR"
   },
   "outputs": [
    {
     "data": {
      "text/plain": [
       "restaurant_name\n",
       "Shake Shack                      3579.53\n",
       "The Meatball Shop                2145.21\n",
       "Blue Ribbon Sushi                1903.95\n",
       "Blue Ribbon Fried Chicken        1662.29\n",
       "Parm                             1112.76\n",
       "RedFarm Broadway                  965.13\n",
       "RedFarm Hudson                    921.21\n",
       "TAO                               834.50\n",
       "Han Dynasty                       755.29\n",
       "Blue Ribbon Sushi Bar & Grill     666.62\n",
       "Rubirosa                          660.45\n",
       "Sushi of Gari 46                  640.87\n",
       "Nobu Next Door                    623.67\n",
       "Five Guys Burgers and Fries       506.47\n",
       "Name: cost_of_the_order, dtype: float64"
      ]
     },
     "execution_count": 35,
     "metadata": {},
     "output_type": "execute_result"
    }
   ],
   "source": [
    "df.groupby(['restaurant_name'])['cost_of_the_order'].sum().sort_values(ascending = False).head(14)\n",
    "#the resturant with the highest revenue is an american resturant this is because "
   ]
  },
  {
   "cell_type": "markdown",
   "metadata": {
    "id": "lu0o5GkQ2rdR"
   },
   "source": [
    "#### Rating vs Delivery time"
   ]
  },
  {
   "cell_type": "code",
   "execution_count": 36,
   "metadata": {
    "id": "NoBGHlPR2rdR",
    "scrolled": true
   },
   "outputs": [
    {
     "data": {
      "image/png": "[encoded data removed]",
      "text/plain": [
       "<Figure size 1500x700 with 1 Axes>"
      ]
     },
     "metadata": {},
     "output_type": "display_data"
    }
   ],
   "source": [
    "# Relationship between rating and delivery time\n",
    "plt.figure(figsize=(15, 7))\n",
    "sns.pointplot(x = 'rating', y = 'delivery_time', data = df)\n",
    "plt.show()"
   ]
  },
  {
   "cell_type": "markdown",
   "metadata": {
    "id": "EUW_xUEK2rdR"
   },
   "source": [
    "#### Rating vs Food preparation time"
   ]
  },
  {
   "cell_type": "code",
   "execution_count": 55,
   "metadata": {
    "id": "d7qzVLdE2rdR",
    "scrolled": true
   },
   "outputs": [
    {
     "data": {
      "image/png": "[encoded data removed]",
      "text/plain": [
       "<Figure size 1500x700 with 1 Axes>"
      ]
     },
     "metadata": {},
     "output_type": "display_data"
    }
   ],
   "source": [
    "# Relationship between rating and food preparation time\n",
    "plt.figure(figsize=(15, 7))\n",
    "sns.pointplot(x = 'rating', y = 'food_preparation_time', data = df)  \n",
    "#Complete the code to visualize the relationship between rating and food preparation time using pointplot\n",
    "plt.show()"
   ]
  },
  {
   "cell_type": "markdown",
   "metadata": {
    "id": "x1xcxS6h2rdS"
   },
   "source": [
    "#### Rating vs Cost of the order"
   ]
  },
  {
   "cell_type": "code",
   "execution_count": 39,
   "metadata": {
    "id": "QV1lg0_72rdS"
   },
   "outputs": [
    {
     "data": {
      "image/png": "[encoded data removed]",
      "text/plain": [
       "<Figure size 1500x700 with 1 Axes>"
      ]
     },
     "metadata": {},
     "output_type": "display_data"
    }
   ],
   "source": [
    "# Relationship between rating and cost of the order\n",
    "plt.figure(figsize=(15, 7))\n",
    "sns.pointplot(x = 'rating', y = 'cost_of_the_order', data = df)   \n",
    "#Complete the code to visualize the relationship between rating and cost of the order using pointplot\n",
    "plt.show()"
   ]
  },
  {
   "cell_type": "markdown",
   "metadata": {
    "id": "N1ATzdSX2rdS"
   },
   "source": [
    "#### Correlation among variables"
   ]
  },
  {
   "cell_type": "code",
   "execution_count": 40,
   "metadata": {
    "id": "I4yA0y032rdS",
    "scrolled": true
   },
   "outputs": [
    {
     "data": {
      "image/png": "[encoded data removed]",
      "text/plain": [
       "<Figure size 1500x700 with 2 Axes>"
      ]
     },
     "metadata": {},
     "output_type": "display_data"
    }
   ],
   "source": [
    "# Plot the heatmap\n",
    "col_list = ['cost_of_the_order', 'food_preparation_time', 'delivery_time']\n",
    "plt.figure(figsize=(15, 7))\n",
    "sns.heatmap(df[col_list].corr(), annot=True, vmin=-1, vmax=1, fmt=\".2f\", cmap=\"Spectral\")\n",
    "plt.show()"
   ]
  },
  {
   "cell_type": "markdown",
   "metadata": {
    "id": "zwBb5dAq2rdS"
   },
   "source": [
    "### **Question 13:** The company wants to provide a promotional offer in the advertisement of the restaurants. The condition to get the offer is that the restaurants must have a rating count of more than 50 and the average rating should be greater than 4. Find the restaurants fulfilling the criteria to get the promotional offer. [3 marks]"
   ]
  },
  {
   "cell_type": "code",
   "execution_count": 41,
   "metadata": {
    "id": "4jQUoQ812rdS",
    "scrolled": true
   },
   "outputs": [
    {
     "data": {
      "text/html": [
       "<div>\n",
       "<style scoped>\n",
       "    .dataframe tbody tr th:only-of-type {\n",
       "        vertical-align: middle;\n",
       "    }\n",
       "\n",
       "    .dataframe tbody tr th {\n",
       "        vertical-align: top;\n",
       "    }\n",
       "\n",
       "    .dataframe thead th {\n",
       "        text-align: right;\n",
       "    }\n",
       "</style>\n",
       "<table border=\"1\" class=\"dataframe\">\n",
       "  <thead>\n",
       "    <tr style=\"text-align: right;\">\n",
       "      <th></th>\n",
       "      <th>restaurant_name</th>\n",
       "      <th>rating</th>\n",
       "    </tr>\n",
       "  </thead>\n",
       "  <tbody>\n",
       "    <tr>\n",
       "      <th>0</th>\n",
       "      <td>Shake Shack</td>\n",
       "      <td>133</td>\n",
       "    </tr>\n",
       "    <tr>\n",
       "      <th>1</th>\n",
       "      <td>The Meatball Shop</td>\n",
       "      <td>84</td>\n",
       "    </tr>\n",
       "    <tr>\n",
       "      <th>2</th>\n",
       "      <td>Blue Ribbon Sushi</td>\n",
       "      <td>73</td>\n",
       "    </tr>\n",
       "    <tr>\n",
       "      <th>3</th>\n",
       "      <td>Blue Ribbon Fried Chicken</td>\n",
       "      <td>64</td>\n",
       "    </tr>\n",
       "    <tr>\n",
       "      <th>4</th>\n",
       "      <td>RedFarm Broadway</td>\n",
       "      <td>41</td>\n",
       "    </tr>\n",
       "  </tbody>\n",
       "</table>\n",
       "</div>"
      ],
      "text/plain": [
       "             restaurant_name  rating\n",
       "0                Shake Shack     133\n",
       "1          The Meatball Shop      84\n",
       "2          Blue Ribbon Sushi      73\n",
       "3  Blue Ribbon Fried Chicken      64\n",
       "4           RedFarm Broadway      41"
      ]
     },
     "execution_count": 41,
     "metadata": {},
     "output_type": "execute_result"
    }
   ],
   "source": [
    "# Filter the rated restaurants\n",
    "df_rated = df[df['rating'] != 'Not given'].copy()\n",
    "\n",
    "# Convert rating column from object to integer\n",
    "df_rated['rating'] = df_rated['rating'].astype('int')\n",
    "\n",
    "# Create a dataframe that contains the restaurant names with their rating counts\n",
    "df_rating_count = df_rated.groupby(['restaurant_name'])['rating'].count().sort_values(ascending = False).reset_index()\n",
    "df_rating_count.head()"
   ]
  },
  {
   "cell_type": "code",
   "execution_count": 43,
   "metadata": {
    "id": "VLdgfwoL2rdT"
   },
   "outputs": [
    {
     "ename": "KeyError",
     "evalue": "'restaurant_name'",
     "output_type": "error",
     "traceback": [
      "\u001b[1;31m---------------------------------------------------------------------------\u001b[0m",
      "\u001b[1;31mKeyError\u001b[0m                                  Traceback (most recent call last)",
      "Cell \u001b[1;32mIn[43], line 2\u001b[0m\n\u001b[0;32m      1\u001b[0m \u001b[38;5;66;03m# Get the restaurant names that have rating count more than 50\u001b[39;00m\n\u001b[1;32m----> 2\u001b[0m rest_names \u001b[38;5;241m=\u001b[39m df_rating_count[\u001b[38;5;124m'\u001b[39m\u001b[38;5;124mrating\u001b[39m\u001b[38;5;124m'\u001b[39m][\u001b[38;5;124m'\u001b[39m\u001b[38;5;124mrestaurant_name\u001b[39m\u001b[38;5;124m'\u001b[39m] \u001b[38;5;66;03m## Complete the code to get the restaurant names having rating count more than 50\u001b[39;00m\n\u001b[0;32m      4\u001b[0m \u001b[38;5;66;03m# Filter to get the data of restaurants that have rating count more than 50\u001b[39;00m\n\u001b[0;32m      5\u001b[0m df_mean_4 \u001b[38;5;241m=\u001b[39m df_rated[df_rated[\u001b[38;5;124m'\u001b[39m\u001b[38;5;124mrestaurant_name\u001b[39m\u001b[38;5;124m'\u001b[39m]\u001b[38;5;241m.\u001b[39misin(rest_names)]\u001b[38;5;241m.\u001b[39mcopy()\n",
      "File \u001b[1;32m~\\anaconda3\\Lib\\site-packages\\pandas\\core\\series.py:1040\u001b[0m, in \u001b[0;36mSeries.__getitem__\u001b[1;34m(self, key)\u001b[0m\n\u001b[0;32m   1037\u001b[0m     \u001b[38;5;28;01mreturn\u001b[39;00m \u001b[38;5;28mself\u001b[39m\u001b[38;5;241m.\u001b[39m_values[key]\n\u001b[0;32m   1039\u001b[0m \u001b[38;5;28;01melif\u001b[39;00m key_is_scalar:\n\u001b[1;32m-> 1040\u001b[0m     \u001b[38;5;28;01mreturn\u001b[39;00m \u001b[38;5;28mself\u001b[39m\u001b[38;5;241m.\u001b[39m_get_value(key)\n\u001b[0;32m   1042\u001b[0m \u001b[38;5;66;03m# Convert generator to list before going through hashable part\u001b[39;00m\n\u001b[0;32m   1043\u001b[0m \u001b[38;5;66;03m# (We will iterate through the generator there to check for slices)\u001b[39;00m\n\u001b[0;32m   1044\u001b[0m \u001b[38;5;28;01mif\u001b[39;00m is_iterator(key):\n",
      "File \u001b[1;32m~\\anaconda3\\Lib\\site-packages\\pandas\\core\\series.py:1156\u001b[0m, in \u001b[0;36mSeries._get_value\u001b[1;34m(self, label, takeable)\u001b[0m\n\u001b[0;32m   1153\u001b[0m     \u001b[38;5;28;01mreturn\u001b[39;00m \u001b[38;5;28mself\u001b[39m\u001b[38;5;241m.\u001b[39m_values[label]\n\u001b[0;32m   1155\u001b[0m \u001b[38;5;66;03m# Similar to Index.get_value, but we do not fall back to positional\u001b[39;00m\n\u001b[1;32m-> 1156\u001b[0m loc \u001b[38;5;241m=\u001b[39m \u001b[38;5;28mself\u001b[39m\u001b[38;5;241m.\u001b[39mindex\u001b[38;5;241m.\u001b[39mget_loc(label)\n\u001b[0;32m   1158\u001b[0m \u001b[38;5;28;01mif\u001b[39;00m is_integer(loc):\n\u001b[0;32m   1159\u001b[0m     \u001b[38;5;28;01mreturn\u001b[39;00m \u001b[38;5;28mself\u001b[39m\u001b[38;5;241m.\u001b[39m_values[loc]\n",
      "File \u001b[1;32m~\\anaconda3\\Lib\\site-packages\\pandas\\core\\indexes\\range.py:418\u001b[0m, in \u001b[0;36mRangeIndex.get_loc\u001b[1;34m(self, key)\u001b[0m\n\u001b[0;32m    416\u001b[0m         \u001b[38;5;28;01mraise\u001b[39;00m \u001b[38;5;167;01mKeyError\u001b[39;00m(key) \u001b[38;5;28;01mfrom\u001b[39;00m \u001b[38;5;21;01merr\u001b[39;00m\n\u001b[0;32m    417\u001b[0m \u001b[38;5;28;01mif\u001b[39;00m \u001b[38;5;28misinstance\u001b[39m(key, Hashable):\n\u001b[1;32m--> 418\u001b[0m     \u001b[38;5;28;01mraise\u001b[39;00m \u001b[38;5;167;01mKeyError\u001b[39;00m(key)\n\u001b[0;32m    419\u001b[0m \u001b[38;5;28mself\u001b[39m\u001b[38;5;241m.\u001b[39m_check_indexing_error(key)\n\u001b[0;32m    420\u001b[0m \u001b[38;5;28;01mraise\u001b[39;00m \u001b[38;5;167;01mKeyError\u001b[39;00m(key)\n",
      "\u001b[1;31mKeyError\u001b[0m: 'restaurant_name'"
     ]
    }
   ],
   "source": [
    "# Get the restaurant names that have rating count more than 50\n",
    "rest_names = df_rating_count['rating']['restaurant_name'] ## Complete the code to get the restaurant names having rating count more than 50\n",
    "\n",
    "# Filter to get the data of restaurants that have rating count more than 50\n",
    "df_mean_4 = df_rated[df_rated['restaurant_name'].isin(rest_names)].copy()\n",
    "\n",
    "# Group the restaurant names with their ratings and find the mean rating of each restaurant\n",
    "df_mean_4.groupby(['rating'])['restaurant_name'].mean().sort_values(ascending = False).reset_index().dropna() ## Complete the code to find the mean rating\n"
   ]
  },
  {
   "cell_type": "markdown",
   "metadata": {
    "id": "UYq_xMk72rdT"
   },
   "source": [
    "### **Question 14:** The company charges the restaurant 25% on the orders having cost greater than 20 dollars and 15% on the orders having cost greater than 5 dollars. Find the net revenue generated by the company across all orders. [3 marks]"
   ]
  },
  {
   "cell_type": "code",
   "execution_count": 50,
   "metadata": {
    "id": "We7SLKbr2rdT"
   },
   "outputs": [
    {
     "data": {
      "text/html": [
       "<div>\n",
       "<style scoped>\n",
       "    .dataframe tbody tr th:only-of-type {\n",
       "        vertical-align: middle;\n",
       "    }\n",
       "\n",
       "    .dataframe tbody tr th {\n",
       "        vertical-align: top;\n",
       "    }\n",
       "\n",
       "    .dataframe thead th {\n",
       "        text-align: right;\n",
       "    }\n",
       "</style>\n",
       "<table border=\"1\" class=\"dataframe\">\n",
       "  <thead>\n",
       "    <tr style=\"text-align: right;\">\n",
       "      <th></th>\n",
       "      <th>order_id</th>\n",
       "      <th>customer_id</th>\n",
       "      <th>restaurant_name</th>\n",
       "      <th>cuisine_type</th>\n",
       "      <th>cost_of_the_order</th>\n",
       "      <th>day_of_the_week</th>\n",
       "      <th>rating</th>\n",
       "      <th>food_preparation_time</th>\n",
       "      <th>delivery_time</th>\n",
       "      <th>total_time</th>\n",
       "      <th>Revenue</th>\n",
       "    </tr>\n",
       "  </thead>\n",
       "  <tbody>\n",
       "    <tr>\n",
       "      <th>0</th>\n",
       "      <td>1477147</td>\n",
       "      <td>337525</td>\n",
       "      <td>Hangawi</td>\n",
       "      <td>Korean</td>\n",
       "      <td>30.75</td>\n",
       "      <td>Weekend</td>\n",
       "      <td>Not given</td>\n",
       "      <td>25</td>\n",
       "      <td>20</td>\n",
       "      <td>45</td>\n",
       "      <td>7.6875</td>\n",
       "    </tr>\n",
       "    <tr>\n",
       "      <th>1</th>\n",
       "      <td>1477685</td>\n",
       "      <td>358141</td>\n",
       "      <td>Blue Ribbon Sushi Izakaya</td>\n",
       "      <td>Japanese</td>\n",
       "      <td>12.08</td>\n",
       "      <td>Weekend</td>\n",
       "      <td>Not given</td>\n",
       "      <td>25</td>\n",
       "      <td>23</td>\n",
       "      <td>48</td>\n",
       "      <td>1.8120</td>\n",
       "    </tr>\n",
       "    <tr>\n",
       "      <th>2</th>\n",
       "      <td>1477070</td>\n",
       "      <td>66393</td>\n",
       "      <td>Cafe Habana</td>\n",
       "      <td>Mexican</td>\n",
       "      <td>12.23</td>\n",
       "      <td>Weekday</td>\n",
       "      <td>5</td>\n",
       "      <td>23</td>\n",
       "      <td>28</td>\n",
       "      <td>51</td>\n",
       "      <td>1.8345</td>\n",
       "    </tr>\n",
       "    <tr>\n",
       "      <th>3</th>\n",
       "      <td>1477334</td>\n",
       "      <td>106968</td>\n",
       "      <td>Blue Ribbon Fried Chicken</td>\n",
       "      <td>American</td>\n",
       "      <td>29.20</td>\n",
       "      <td>Weekend</td>\n",
       "      <td>3</td>\n",
       "      <td>25</td>\n",
       "      <td>15</td>\n",
       "      <td>40</td>\n",
       "      <td>7.3000</td>\n",
       "    </tr>\n",
       "    <tr>\n",
       "      <th>4</th>\n",
       "      <td>1478249</td>\n",
       "      <td>76942</td>\n",
       "      <td>Dirty Bird to Go</td>\n",
       "      <td>American</td>\n",
       "      <td>11.59</td>\n",
       "      <td>Weekday</td>\n",
       "      <td>4</td>\n",
       "      <td>25</td>\n",
       "      <td>24</td>\n",
       "      <td>49</td>\n",
       "      <td>1.7385</td>\n",
       "    </tr>\n",
       "  </tbody>\n",
       "</table>\n",
       "</div>"
      ],
      "text/plain": [
       "   order_id  customer_id            restaurant_name cuisine_type  \\\n",
       "0   1477147       337525                    Hangawi       Korean   \n",
       "1   1477685       358141  Blue Ribbon Sushi Izakaya     Japanese   \n",
       "2   1477070        66393                Cafe Habana      Mexican   \n",
       "3   1477334       106968  Blue Ribbon Fried Chicken     American   \n",
       "4   1478249        76942           Dirty Bird to Go     American   \n",
       "\n",
       "   cost_of_the_order day_of_the_week     rating  food_preparation_time  \\\n",
       "0              30.75         Weekend  Not given                     25   \n",
       "1              12.08         Weekend  Not given                     25   \n",
       "2              12.23         Weekday          5                     23   \n",
       "3              29.20         Weekend          3                     25   \n",
       "4              11.59         Weekday          4                     25   \n",
       "\n",
       "   delivery_time  total_time  Revenue  \n",
       "0             20          45   7.6875  \n",
       "1             23          48   1.8120  \n",
       "2             28          51   1.8345  \n",
       "3             15          40   7.3000  \n",
       "4             24          49   1.7385  "
      ]
     },
     "execution_count": 50,
     "metadata": {},
     "output_type": "execute_result"
    }
   ],
   "source": [
    "#function to determine the revenue\n",
    "def compute_rev(x):\n",
    "    if x > 20:\n",
    "        return x*0.25\n",
    "    elif x > 5:\n",
    "        return x*0.15\n",
    "    else:\n",
    "        return x*0\n",
    "\n",
    "df['Revenue'] = df['cost_of_the_order'].apply(compute_rev) ## Write the apprpriate column name to compute the revenue\n",
    "df.head()"
   ]
  },
  {
   "cell_type": "code",
   "execution_count": 51,
   "metadata": {
    "id": "Ab_UW6kRIAk3"
   },
   "outputs": [
    {
     "name": "stdout",
     "output_type": "stream",
     "text": [
      "The net revenue is around 6166.3 dollars\n"
     ]
    }
   ],
   "source": [
    "# get the total revenue and print it\n",
    "total_rev = df['Revenue'].sum() ## Write the appropriate function to get the total revenue\n",
    "print('The net revenue is around', round(total_rev, 2), 'dollars')"
   ]
  },
  {
   "cell_type": "markdown",
   "metadata": {
    "id": "LZy7Tky82rdT"
   },
   "source": [
    "### **Question 15:** The company wants to analyze the total time required to deliver the food. What percentage of orders take more than 60 minutes to get delivered from the time the order is placed? (The food has to be prepared and then delivered.)[2 marks]\n"
   ]
  },
  {
   "cell_type": "code",
   "execution_count": 49,
   "metadata": {
    "id": "Ati2ZEEE2rdT"
   },
   "outputs": [
    {
     "name": "stdout",
     "output_type": "stream",
     "text": [
      "Delivery time above 60 minutes is: 0\n",
      "Percentage of  orders that have more than 60 minutes of total delivery time: 0.0 %\n"
     ]
    }
   ],
   "source": [
    "# Calculate total delivery time and add a new column to the dataframe df to store the total delivery time\n",
    "df['total_time'] = df['food_preparation_time'] + df['delivery_time']\n",
    "\n",
    "\n",
    "## Write the code below to find the percentage of orders that have more than 60 minutes of total delivery time (see Question 9 for reference)\n",
    "\n",
    "# Get orders that cost above 20 dollars\n",
    "df_greater_than_60 = df[df['delivery_time']>60] ## Write the appropriate column name to get the orders having cost above $20\n",
    "\n",
    "# Calculate the number of total orders where the cost is above 20 dollars\n",
    "print('Delivery time above 60 minutes is:', df_greater_than_60.shape[0])\n",
    "\n",
    "# Calculate percentage of such orders in the dataset\n",
    "percentage = (df_greater_than_60.shape[0] / df.shape[0]) * 100\n",
    "\n",
    "print(\"Percentage of  orders that have more than 60 minutes of total delivery time:\", round(percentage, 2), '%')\n",
    "\n"
   ]
  },
  {
   "cell_type": "markdown",
   "metadata": {
    "id": "SYOKcqNF2rdU"
   },
   "source": [
    "### **Question 16:** The company wants to analyze the delivery time of the orders on weekdays and weekends. How does the mean delivery time vary during weekdays and weekends? [2 marks]"
   ]
  },
  {
   "cell_type": "code",
   "execution_count": 45,
   "metadata": {
    "id": "A2eovxKR2rdU"
   },
   "outputs": [
    {
     "name": "stdout",
     "output_type": "stream",
     "text": [
      "The mean delivery time on weekdays is around 28 minutes\n"
     ]
    },
    {
     "ename": "ValueError",
     "evalue": "cannot convert float NaN to integer",
     "output_type": "error",
     "traceback": [
      "\u001b[1;31m---------------------------------------------------------------------------\u001b[0m",
      "\u001b[1;31mValueError\u001b[0m                                Traceback (most recent call last)",
      "Cell \u001b[1;32mIn[45], line 10\u001b[0m\n\u001b[0;32m      2\u001b[0m \u001b[38;5;28mprint\u001b[39m(\u001b[38;5;124m'\u001b[39m\u001b[38;5;124mThe mean delivery time on weekdays is around\u001b[39m\u001b[38;5;124m'\u001b[39m,\n\u001b[0;32m      3\u001b[0m       \u001b[38;5;28mround\u001b[39m(df[df[\u001b[38;5;124m'\u001b[39m\u001b[38;5;124mday_of_the_week\u001b[39m\u001b[38;5;124m'\u001b[39m] \u001b[38;5;241m==\u001b[39m \u001b[38;5;124m'\u001b[39m\u001b[38;5;124mWeekday\u001b[39m\u001b[38;5;124m'\u001b[39m][\u001b[38;5;124m'\u001b[39m\u001b[38;5;124mdelivery_time\u001b[39m\u001b[38;5;124m'\u001b[39m]\u001b[38;5;241m.\u001b[39mmean()),\n\u001b[0;32m      4\u001b[0m      \u001b[38;5;124m'\u001b[39m\u001b[38;5;124mminutes\u001b[39m\u001b[38;5;124m'\u001b[39m)\n\u001b[0;32m      7\u001b[0m \u001b[38;5;66;03m## Write the code below to get the mean delivery time on weekends and print it\u001b[39;00m\n\u001b[0;32m      9\u001b[0m \u001b[38;5;28mprint\u001b[39m(\u001b[38;5;124m'\u001b[39m\u001b[38;5;124mThe mean delivery time on weekends is around\u001b[39m\u001b[38;5;124m'\u001b[39m,\n\u001b[1;32m---> 10\u001b[0m       \u001b[38;5;28mround\u001b[39m(df[df[\u001b[38;5;124m'\u001b[39m\u001b[38;5;124mday_of_the_week\u001b[39m\u001b[38;5;124m'\u001b[39m] \u001b[38;5;241m==\u001b[39m \u001b[38;5;124m'\u001b[39m\u001b[38;5;124mWeekends\u001b[39m\u001b[38;5;124m'\u001b[39m][\u001b[38;5;124m'\u001b[39m\u001b[38;5;124mdelivery_time\u001b[39m\u001b[38;5;124m'\u001b[39m]\u001b[38;5;241m.\u001b[39mmean()),\n\u001b[0;32m     11\u001b[0m      \u001b[38;5;124m'\u001b[39m\u001b[38;5;124mminutes\u001b[39m\u001b[38;5;124m'\u001b[39m)\n",
      "\u001b[1;31mValueError\u001b[0m: cannot convert float NaN to integer"
     ]
    }
   ],
   "source": [
    "# Get the mean delivery time on weekdays and print it\n",
    "print('The mean delivery time on weekdays is around',\n",
    "      round(df[df['day_of_the_week'] == 'Weekday']['delivery_time'].mean()),\n",
    "     'minutes')\n",
    "\n",
    "\n",
    "## Write the code below to get the mean delivery time on weekends and print it\n",
    "\n",
    "\n",
    "print('The mean delivery time on weekends is around',\n",
    "      round(df[df['day_of_the_week'] == 'Weekends']['delivery_time'].mean()),\n",
    "     'minutes')\n",
    "\n",
    "\n"
   ]
  },
  {
   "cell_type": "markdown",
   "metadata": {
    "id": "2nE3pq472rdU"
   },
   "source": [
    "### Conclusion and Recommendations"
   ]
  },
  {
   "cell_type": "markdown",
   "metadata": {
    "id": "DL1sNndy2rdU"
   },
   "source": [
    "### **Question 17:** What are your conclusions from the analysis? What recommendations would you like to share to help improve the business? (You can use cuisine type and feedback ratings to drive your business recommendations.) [6 marks]"
   ]
  },
  {
   "cell_type": "markdown",
   "metadata": {
    "id": "VTugVsL4Ddz-"
   },
   "source": [
    "### Conclusions:\n",
    "*  Most orders are made during the weekend.\n",
    "*  The resturant with highest number of order and rating is an american resturant.\n",
    "*  Delivery time during the weekday is higher than the weekend.\n",
    "*  The cost of order does not directly affect the ratings. Therefore, customers just want a good meal or thier preffered meal even if it cost more.\n",
    "*  "
   ]
  },
  {
   "cell_type": "markdown",
   "metadata": {
    "id": "PWnsI0i_guWJ"
   },
   "source": [
    "### Recommendations:\n",
    "\n",
    "*  Occasional discount for resturant with low sales can help increase the demand\n",
    "*  Reduction in the weekday delivery time will most likely increase the deamand in the same, hence, driving more sales, revenue and customer satisfaction.\n",
    "*  "
   ]
  },
  {
   "cell_type": "markdown",
   "metadata": {
    "id": "Kvk0Fh6WhMjU"
   },
   "source": [
    "---"
   ]
  }
 ],
 "metadata": {
  "colab": {
   "collapsed_sections": [
    "LUh8hTiW2rdH",
    "2Dl2aL1W2rdI",
    "4ceeYAVy2rdO",
    "2nE3pq472rdU",
    "DL1sNndy2rdU"
   ],
   "provenance": []
  },
  "kernelspec": {
   "display_name": "Python 3 (ipykernel)",
   "language": "python",
   "name": "python3"
  },
  "language_info": {
   "codemirror_mode": {
    "name": "ipython",
    "version": 3
   },
   "file_extension": ".py",
   "mimetype": "text/x-python",
   "name": "python",
   "nbconvert_exporter": "python",
   "pygments_lexer": "ipython3",
   "version": "3.11.7"
  }
 },
 "nbformat": 4,
 "nbformat_minor": 4
}
